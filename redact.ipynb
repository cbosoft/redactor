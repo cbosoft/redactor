{
 "cells": [
  {
   "cell_type": "markdown",
   "source": [
    "# Some set up..."
   ],
   "metadata": {
    "collapsed": false,
    "pycharm": {
     "name": "#%% md\n"
    }
   }
  },
  {
   "cell_type": "code",
   "execution_count": null,
   "outputs": [],
   "source": [
    "from redactor.redact import Redactor\n",
    "from redactor.progress_bar import set_is_notebook\n",
    "\n",
    "set_is_notebook()  # use jupyter-compatible progress bars"
   ],
   "metadata": {
    "collapsed": false,
    "pycharm": {
     "name": "#%%\n"
    }
   }
  },
  {
   "cell_type": "markdown",
   "metadata": {
    "collapsed": true,
    "pycharm": {
     "name": "#%% md\n"
    }
   },
   "source": [
    "# Load machine learning model parameters.\n",
    "\n",
    "Specify a machine learning model by path to a zip file (provided by developer, or created as a result of training).\n"
   ]
  },
  {
   "cell_type": "code",
   "source": [
    "ML_MODEL_STATE_ZIP = r'zoo\\2022-08-17_sugar.zip'\n",
    "redactor = Redactor.from_zip(ML_MODEL_STATE_ZIP)"
   ],
   "metadata": {
    "collapsed": false,
    "pycharm": {
     "name": "#%%\n"
    }
   },
   "execution_count": null,
   "outputs": []
  },
  {
   "cell_type": "markdown",
   "source": [
    "# Redact specified images.\n",
    "\n",
    "Specified images will not be modified, redacted copies will be placed in $output_dir.\n",
    "\n",
    "What images should be redacted? Can be:\n",
    "  (1) a path to a single image,\n",
    "  (2) a list of paths to images,\n",
    "  (3) a directory, or\n",
    "  (4) a glob pattern specifying images."
   ],
   "metadata": {
    "collapsed": false
   }
  },
  {
   "cell_type": "code",
   "execution_count": null,
   "outputs": [],
   "source": [
    "IMAGES_TO_REDACT = r'E:\\Path\\to\\some\\images'\n",
    "redactor.redact(\n",
    "    IMAGES_TO_REDACT,\n",
    "    output_dir=None,  # the default, will create a dir with format 'REDACTED_{DATE}_{TIME}'\n",
    "    redact_filename=False  # set to true to remove original filenames too (replace with incrementing number)\n",
    ")"
   ],
   "metadata": {
    "collapsed": false,
    "pycharm": {
     "name": "#%%\n"
    }
   }
  }
 ],
 "metadata": {
  "kernelspec": {
   "display_name": "Python 3",
   "language": "python",
   "name": "python3"
  },
  "language_info": {
   "codemirror_mode": {
    "name": "ipython",
    "version": 2
   },
   "file_extension": ".py",
   "mimetype": "text/x-python",
   "name": "python",
   "nbconvert_exporter": "python",
   "pygments_lexer": "ipython2",
   "version": "2.7.6"
  }
 },
 "nbformat": 4,
 "nbformat_minor": 0
}